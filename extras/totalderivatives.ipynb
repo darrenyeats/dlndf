{
 "cells": [
  {
   "cell_type": "markdown",
   "metadata": {},
   "source": [
    "Try\n",
    "$$f(t,x,y)=3t^2+x+2y$$\n",
    "where\n",
    "$$x=2t$$\n",
    "and\n",
    "$$y=3t$$"
   ]
  },
  {
   "cell_type": "markdown",
   "metadata": {},
   "source": [
    "### Using total derivative"
   ]
  },
  {
   "cell_type": "markdown",
   "metadata": {},
   "source": [
    "The total derivative method comes into play when doing direct substitutions is hard.\n",
    "* There's a term per argument to $f$.\n",
    "* The first factor of each term is the partial derivative of (in this case) $f$ WRT to the relevant argument.\n",
    "* The second factor of each term is the partial derivative of the argument WRT to (in this case) $t$.\n",
    "\n",
    "$$\\frac{df}{dt}=\\frac{\\partial f}{\\partial t}.\\frac{\\partial t}{\\partial t}+\\frac{\\partial f}{\\partial x}.\\frac{\\partial x}{\\partial t}+\\frac{\\partial f}{\\partial y}.\\frac{\\partial y}{\\partial t}$$\n",
    "\n",
    "Obviously the first term's second factor is 1."
   ]
  },
  {
   "cell_type": "markdown",
   "metadata": {},
   "source": [
    "So\n",
    "$$\\frac{df}{dt}=6t+1\\times2+2\\times3=6t+8$$"
   ]
  },
  {
   "cell_type": "markdown",
   "metadata": {},
   "source": [
    "### Verify using direct substitution\n",
    "\n",
    "In this case, happily, substitution is easy."
   ]
  },
  {
   "cell_type": "markdown",
   "metadata": {},
   "source": [
    "$$f(t,x,y)=3t^2+2t+2.3t$$\n",
    "$$f(t,x,y)=3t^2+8t$$"
   ]
  },
  {
   "cell_type": "markdown",
   "metadata": {},
   "source": [
    "So\n",
    "$$\\frac{df}{dt}=6t+8$$"
   ]
  }
 ],
 "metadata": {
  "kernelspec": {
   "display_name": "Python [conda env:dl-2-nns]",
   "language": "python",
   "name": "conda-env-dl-2-nns-py"
  },
  "language_info": {
   "codemirror_mode": {
    "name": "ipython",
    "version": 3
   },
   "file_extension": ".py",
   "mimetype": "text/x-python",
   "name": "python",
   "nbconvert_exporter": "python",
   "pygments_lexer": "ipython3",
   "version": "3.6.2"
  }
 },
 "nbformat": 4,
 "nbformat_minor": 2
}
