{
 "cells": [
  {
   "cell_type": "markdown",
   "metadata": {
    "collapsed": true
   },
   "source": [
    "# Image Classification\n",
    "In this project, you'll classify images from the [CIFAR-10 dataset](https://www.cs.toronto.edu/~kriz/cifar.html).  The dataset consists of airplanes, dogs, cats, and other objects. You'll preprocess the images, then train a convolutional neural network on all the samples. The images need to be normalized and the labels need to be one-hot encoded.  You'll get to apply what you learned and build a convolutional, max pooling, dropout, and fully connected layers.  At the end, you'll get to see your neural network's predictions on the sample images.\n",
    "## Get the Data\n",
    "Run the following cell to download the [CIFAR-10 dataset for python](https://www.cs.toronto.edu/~kriz/cifar-10-python.tar.gz)."
   ]
  },
  {
   "cell_type": "code",
   "execution_count": 5,
   "metadata": {},
   "outputs": [
    {
     "name": "stdout",
     "output_type": "stream",
     "text": [
      "All files found!\n"
     ]
    }
   ],
   "source": [
    "\"\"\"\n",
    "DON'T MODIFY ANYTHING IN THIS CELL THAT IS BELOW THIS LINE\n",
    "\"\"\"\n",
    "from urllib.request import urlretrieve\n",
    "from os.path import isfile, isdir\n",
    "from tqdm import tqdm\n",
    "import problem_unittests as tests\n",
    "import tarfile\n",
    "\n",
    "cifar10_dataset_folder_path = 'cifar-10-batches-py'\n",
    "\n",
    "# Use Floyd's cifar-10 dataset if present\n",
    "floyd_cifar10_location = '/cifar/cifar-10-python.tar.gz'\n",
    "if isfile(floyd_cifar10_location):\n",
    "    tar_gz_path = floyd_cifar10_location\n",
    "else:\n",
    "    tar_gz_path = 'cifar-10-python.tar.gz'\n",
    "\n",
    "class DLProgress(tqdm):\n",
    "    last_block = 0\n",
    "\n",
    "    def hook(self, block_num=1, block_size=1, total_size=None):\n",
    "        self.total = total_size\n",
    "        self.update((block_num - self.last_block) * block_size)\n",
    "        self.last_block = block_num\n",
    "\n",
    "if not isfile(tar_gz_path):\n",
    "    with DLProgress(unit='B', unit_scale=True, miniters=1, desc='CIFAR-10 Dataset') as pbar:\n",
    "        urlretrieve(\n",
    "            'https://www.cs.toronto.edu/~kriz/cifar-10-python.tar.gz',\n",
    "            tar_gz_path,\n",
    "            pbar.hook)\n",
    "\n",
    "if not isdir(cifar10_dataset_folder_path):\n",
    "    with tarfile.open(tar_gz_path) as tar:\n",
    "        tar.extractall()\n",
    "        tar.close()\n",
    "\n",
    "\n",
    "tests.test_folder_path(cifar10_dataset_folder_path)"
   ]
  },
  {
   "cell_type": "markdown",
   "metadata": {},
   "source": [
    "## Explore the Data\n",
    "The dataset is broken into batches to prevent your machine from running out of memory.  The CIFAR-10 dataset consists of 5 batches, named `data_batch_1`, `data_batch_2`, etc.. Each batch contains the labels and images that are one of the following:\n",
    "* airplane\n",
    "* automobile\n",
    "* bird\n",
    "* cat\n",
    "* deer\n",
    "* dog\n",
    "* frog\n",
    "* horse\n",
    "* ship\n",
    "* truck\n",
    "\n",
    "Understanding a dataset is part of making predictions on the data.  Play around with the code cell below by changing the `batch_id` and `sample_id`. The `batch_id` is the id for a batch (1-5). The `sample_id` is the id for a image and label pair in the batch.\n",
    "\n",
    "Ask yourself \"What are all possible labels?\", \"What is the range of values for the image data?\", \"Are the labels in order or random?\".  Answers to questions like these will help you preprocess the data and end up with better predictions."
   ]
  },
  {
   "cell_type": "code",
   "execution_count": 9,
   "metadata": {},
   "outputs": [
    {
     "name": "stdout",
     "output_type": "stream",
     "text": [
      "\n",
      "Stats of batch 2:\n",
      "Samples: 10000\n",
      "Label Counts: {0: 984, 1: 1007, 2: 1010, 3: 995, 4: 1010, 5: 988, 6: 1008, 7: 1026, 8: 987, 9: 985}\n",
      "First 20 Labels: [1, 6, 6, 8, 8, 3, 4, 6, 0, 6, 0, 3, 6, 6, 5, 4, 8, 3, 2, 6]\n",
      "\n",
      "Example of Image 6:\n",
      "Image - Min Value: 0 Max Value: 235\n",
      "Image - Shape: (32, 32, 3)\n",
      "Label - Label Id: 4 Name: deer\n"
     ]
    },
    {
     "data": {
      "image/png": "[encoded data removed]",
      "text/plain": [
       "<matplotlib.figure.Figure at 0x7f2ceefb0438>"
      ]
     },
     "metadata": {
      "image/png": {
       "height": 250,
       "width": 253
      }
     },
     "output_type": "display_data"
    }
   ],
   "source": [
    "%matplotlib inline\n",
    "%config InlineBackend.figure_format = 'retina'\n",
    "\n",
    "import helper\n",
    "import numpy as np\n",
    "\n",
    "# Explore the dataset\n",
    "batch_id = 2\n",
    "sample_id = 6\n",
    "helper.display_stats(cifar10_dataset_folder_path, batch_id, sample_id)"
   ]
  },
  {
   "cell_type": "markdown",
   "metadata": {},
   "source": [
    "## Implement Preprocess Functions\n",
    "### Normalize\n",
    "In the cell below, implement the `normalize` function to take in image data, `x`, and return it as a normalized Numpy array. The values should be in the range of 0 to 1, inclusive.  The return object should be the same shape as `x`."
   ]
  },
  {
   "cell_type": "code",
   "execution_count": 10,
   "metadata": {},
   "outputs": [
    {
     "name": "stdout",
     "output_type": "stream",
     "text": [
      "Tests Passed\n"
     ]
    }
   ],
   "source": [
    "def normalize(x):\n",
    "    \"\"\"\n",
    "    Normalize a list of sample image data in the range of 0 to 1\n",
    "    : x: List of image data.  The image shape is (32, 32, 3)\n",
    "    : return: Numpy array of normalize data\n",
    "    \"\"\"\n",
    "    # TODO: Implement Function\n",
    "    return x / 256\n",
    "    return None\n",
    "\n",
    "\n",
    "\"\"\"\n",
    "DON'T MODIFY ANYTHING IN THIS CELL THAT IS BELOW THIS LINE\n",
    "\"\"\"\n",
    "tests.test_normalize(normalize)"
   ]
  },
  {
   "cell_type": "markdown",
   "metadata": {},
   "source": [
    "### One-hot encode\n",
    "Just like the previous code cell, you'll be implementing a function for preprocessing.  This time, you'll implement the `one_hot_encode` function. The input, `x`, are a list of labels.  Implement the function to return the list of labels as One-Hot encoded Numpy array.  The possible values for labels are 0 to 9. The one-hot encoding function should return the same encoding for each value between each call to `one_hot_encode`.  Make sure to save the map of encodings outside the function.\n",
    "\n",
    "Hint: Don't reinvent the wheel."
   ]
  },
  {
   "cell_type": "code",
   "execution_count": 11,
   "metadata": {},
   "outputs": [
    {
     "name": "stdout",
     "output_type": "stream",
     "text": [
      "Tests Passed\n"
     ]
    }
   ],
   "source": [
    "from sklearn import preprocessing\n",
    "\n",
    "labels = np.array(range(10))\n",
    "lb = preprocessing.LabelBinarizer()\n",
    "lb.fit(labels)\n",
    "\n",
    "def one_hot_encode(x):\n",
    "    \"\"\"\n",
    "    One hot encode a list of sample labels. Return a one-hot encoded vector for each label.\n",
    "    : x: List of sample Labels\n",
    "    : return: Numpy array of one-hot encoded labels\n",
    "    \"\"\"\n",
    "    # TODO: Implement Function\n",
    "    \n",
    "    return lb.transform(x)\n",
    "\n",
    "\n",
    "\"\"\"\n",
    "DON'T MODIFY ANYTHING IN THIS CELL THAT IS BELOW THIS LINE\n",
    "\"\"\"\n",
    "tests.test_one_hot_encode(one_hot_encode)"
   ]
  },
  {
   "cell_type": "markdown",
   "metadata": {},
   "source": [
    "### Randomize Data\n",
    "As you saw from exploring the data above, the order of the samples are randomized.  It doesn't hurt to randomize it again, but you don't need to for this dataset."
   ]
  },
  {
   "cell_type": "markdown",
   "metadata": {},
   "source": [
    "## Preprocess all the data and save it\n",
    "Running the code cell below will preprocess all the CIFAR-10 data and save it to file. The code below also uses 10% of the training data for validation."
   ]
  },
  {
   "cell_type": "code",
   "execution_count": 12,
   "metadata": {
    "collapsed": true
   },
   "outputs": [],
   "source": [
    "\"\"\"\n",
    "DON'T MODIFY ANYTHING IN THIS CELL\n",
    "\"\"\"\n",
    "# Preprocess Training, Validation, and Testing Data\n",
    "helper.preprocess_and_save_data(cifar10_dataset_folder_path, normalize, one_hot_encode)"
   ]
  },
  {
   "cell_type": "markdown",
   "metadata": {},
   "source": [
    "# Check Point\n",
    "This is your first checkpoint.  If you ever decide to come back to this notebook or have to restart the notebook, you can start from here.  The preprocessed data has been saved to disk."
   ]
  },
  {
   "cell_type": "code",
   "execution_count": 274,
   "metadata": {
    "collapsed": true
   },
   "outputs": [],
   "source": [
    "\"\"\"\n",
    "DON'T MODIFY ANYTHING IN THIS CELL\n",
    "\"\"\"\n",
    "import pickle\n",
    "import problem_unittests as tests\n",
    "import helper\n",
    "\n",
    "# Load the Preprocessed Validation data\n",
    "valid_features, valid_labels = pickle.load(open('preprocess_validation.p', mode='rb'))"
   ]
  },
  {
   "cell_type": "markdown",
   "metadata": {},
   "source": [
    "## Build the network\n",
    "For the neural network, you'll build each layer into a function.  Most of the code you've seen has been outside of functions. To test your code more thoroughly, we require that you put each layer in a function.  This allows us to give you better feedback and test for simple mistakes using our unittests before you submit your project.\n",
    "\n",
    ">**Note:** If you're finding it hard to dedicate enough time for this course each week, we've provided a small shortcut to this part of the project. In the next couple of problems, you'll have the option to use classes from the [TensorFlow Layers](https://www.tensorflow.org/api_docs/python/tf/layers) or [TensorFlow Layers (contrib)](https://www.tensorflow.org/api_guides/python/contrib.layers) packages to build each layer, except the layers you build in the \"Convolutional and Max Pooling Layer\" section.  TF Layers is similar to Keras's and TFLearn's abstraction to layers, so it's easy to pickup.\n",
    "\n",
    ">However, if you would like to get the most out of this course, try to solve all the problems _without_ using anything from the TF Layers packages. You **can** still use classes from other packages that happen to have the same name as ones you find in TF Layers! For example, instead of using the TF Layers version of the `conv2d` class, [tf.layers.conv2d](https://www.tensorflow.org/api_docs/python/tf/layers/conv2d), you would want to use the TF Neural Network version of `conv2d`, [tf.nn.conv2d](https://www.tensorflow.org/api_docs/python/tf/nn/conv2d). \n",
    "\n",
    "Let's begin!\n",
    "\n",
    "### Input\n",
    "The neural network needs to read the image data, one-hot encoded labels, and dropout keep probability. Implement the following functions\n",
    "* Implement `neural_net_image_input`\n",
    " * Return a [TF Placeholder](https://www.tensorflow.org/api_docs/python/tf/placeholder)\n",
    " * Set the shape using `image_shape` with batch size set to `None`.\n",
    " * Name the TensorFlow placeholder \"x\" using the TensorFlow `name` parameter in the [TF Placeholder](https://www.tensorflow.org/api_docs/python/tf/placeholder).\n",
    "* Implement `neural_net_label_input`\n",
    " * Return a [TF Placeholder](https://www.tensorflow.org/api_docs/python/tf/placeholder)\n",
    " * Set the shape using `n_classes` with batch size set to `None`.\n",
    " * Name the TensorFlow placeholder \"y\" using the TensorFlow `name` parameter in the [TF Placeholder](https://www.tensorflow.org/api_docs/python/tf/placeholder).\n",
    "* Implement `neural_net_keep_prob_input`\n",
    " * Return a [TF Placeholder](https://www.tensorflow.org/api_docs/python/tf/placeholder) for dropout keep probability.\n",
    " * Name the TensorFlow placeholder \"keep_prob\" using the TensorFlow `name` parameter in the [TF Placeholder](https://www.tensorflow.org/api_docs/python/tf/placeholder).\n",
    "\n",
    "These names will be used at the end of the project to load your saved model.\n",
    "\n",
    "Note: `None` for shapes in TensorFlow allow for a dynamic size."
   ]
  },
  {
   "cell_type": "code",
   "execution_count": 275,
   "metadata": {},
   "outputs": [
    {
     "name": "stdout",
     "output_type": "stream",
     "text": [
      "Image Input Tests Passed.\n",
      "Label Input Tests Passed.\n",
      "Keep Prob Tests Passed.\n"
     ]
    }
   ],
   "source": [
    "import tensorflow as tf\n",
    "\n",
    "def neural_net_image_input(image_shape):\n",
    "    \"\"\"\n",
    "    Return a Tensor for a batch of image input\n",
    "    : image_shape: Shape of the images\n",
    "    : return: Tensor for image input.\n",
    "    \"\"\"\n",
    "    # TODO: Implement Function\n",
    "    myshape=[None,0,0,0]\n",
    "    myshape[1],myshape[2],myshape[3]=image_shape\n",
    "    return tf.placeholder(tf.float32,myshape,name=\"x\")\n",
    "\n",
    "\n",
    "def neural_net_label_input(n_classes):\n",
    "    \"\"\"\n",
    "    Return a Tensor for a batch of label input\n",
    "    : n_classes: Number of classes\n",
    "    : return: Tensor for label input.\n",
    "    \"\"\"\n",
    "    # TODO: Implement Function\n",
    "    return tf.placeholder(tf.float32,[None,n_classes],name=\"y\")\n",
    "\n",
    "\n",
    "def neural_net_keep_prob_input():\n",
    "    \"\"\"\n",
    "    Return a Tensor for keep probability\n",
    "    : return: Tensor for keep probability.\n",
    "    \"\"\"\n",
    "    # TODO: Implement Function\n",
    "    return tf.placeholder(tf.float32,name=\"keep_prob\")\n",
    "\n",
    "\n",
    "\"\"\"\n",
    "DON'T MODIFY ANYTHING IN THIS CELL THAT IS BELOW THIS LINE\n",
    "\"\"\"\n",
    "tf.reset_default_graph()\n",
    "tests.test_nn_image_inputs(neural_net_image_input)\n",
    "tests.test_nn_label_inputs(neural_net_label_input)\n",
    "tests.test_nn_keep_prob_inputs(neural_net_keep_prob_input)"
   ]
  },
  {
   "cell_type": "markdown",
   "metadata": {},
   "source": [
    "### Convolution and Max Pooling Layer\n",
    "Convolution layers have a lot of success with images. For this code cell, you should implement the function `conv2d_maxpool` to apply convolution then max pooling:\n",
    "* Create the weight and bias using `conv_ksize`, `conv_num_outputs` and the shape of `x_tensor`.\n",
    "* Apply a convolution to `x_tensor` using weight and `conv_strides`.\n",
    " * We recommend you use same padding, but you're welcome to use any padding.\n",
    "* Add bias\n",
    "* Add a nonlinear activation to the convolution.\n",
    "* Apply Max Pooling using `pool_ksize` and `pool_strides`.\n",
    " * We recommend you use same padding, but you're welcome to use any padding.\n",
    "\n",
    "**Note:** You **can't** use [TensorFlow Layers](https://www.tensorflow.org/api_docs/python/tf/layers) or [TensorFlow Layers (contrib)](https://www.tensorflow.org/api_guides/python/contrib.layers) for **this** layer, but you can still use TensorFlow's [Neural Network](https://www.tensorflow.org/api_docs/python/tf/nn) package. You may still use the shortcut option for all the **other** layers."
   ]
  },
  {
   "cell_type": "code",
   "execution_count": 276,
   "metadata": {},
   "outputs": [
    {
     "name": "stdout",
     "output_type": "stream",
     "text": [
      "pooled1.get_shape(): {} (?, 4, 4, 10)\n",
      "Tests Passed\n"
     ]
    }
   ],
   "source": [
    "import numpy as np\n",
    "\n",
    "def conv2d_maxpool(x_tensor, conv_num_outputs, conv_ksize, conv_strides, pool_ksize, pool_strides):\n",
    "    \"\"\"\n",
    "    Apply convolution then max pooling to x_tensor\n",
    "    :param x_tensor: TensorFlow Tensor\n",
    "    :param conv_num_outputs: Number of outputs for the convolutional layer\n",
    "    :param conv_ksize: kernal size 2-D Tuple for the convolutional layer\n",
    "    :param conv_strides: Stride 2-D Tuple for convolution\n",
    "    :param pool_ksize: kernal size 2-D Tuple for pool\n",
    "    :param pool_strides: Stride 2-D Tuple for pool\n",
    "    : return: A tensor that represents convolution and max pooling of x_tensor\n",
    "    \"\"\"\n",
    "    # TODO: Implement Function\n",
    "#    print(conv_strides)\n",
    "    x_shape=x_tensor.get_shape().as_list()\n",
    "#    print(x_shape)\n",
    "    conv_height,conv_width=conv_ksize\n",
    "    conv_stride_ver,conv_stride_hor=conv_strides\n",
    "    conv_feat_map_height=int(x_shape[1]/conv_stride_ver)\n",
    "    conv_feat_map_width=int(x_shape[2]/conv_stride_hor)\n",
    "    # AKA convolution filter\n",
    "    W_n=conv_height*conv_width*x_shape[3]*conv_num_outputs\n",
    "    W_range=1/np.sqrt(W_n)\n",
    "    W = tf.Variable(tf.truncated_normal([conv_height, conv_width, x_shape[3], conv_num_outputs],mean=0.0,stddev=W_range,dtype=tf.float32,seed=42,name=None))\n",
    "    b = tf.Variable(tf.truncated_normal([conv_num_outputs],mean=0.0,stddev=W_range,dtype=tf.float32,seed=42,name=None))\n",
    "    convolved1 = tf.nn.conv2d(x_tensor, W, strides=[1, conv_stride_ver, conv_stride_hor, 1], padding='SAME')\n",
    "    convolved2 = tf.nn.bias_add(convolved1, b)\n",
    "    convolved3 = tf.nn.relu(convolved2)\n",
    "    \n",
    "#    print(pool_ksize)\n",
    "    pool_height,pool_width=pool_ksize\n",
    "    pool_stride_ver,pool_stride_hor=pool_strides\n",
    "    pooled1 = tf.nn.max_pool(convolved3, ksize=[1,pool_height,pool_width,1], strides=[1,pool_stride_ver,pool_stride_hor,1], padding='SAME') \n",
    "    print(\"pooled1.get_shape(): {}\",pooled1.get_shape())\n",
    "    return(pooled1)\n",
    "\n",
    "\"\"\"\n",
    "DON'T MODIFY ANYTHING IN THIS CELL THAT IS BELOW THIS LINE\n",
    "\"\"\"\n",
    "tests.test_con_pool(conv2d_maxpool)"
   ]
  },
  {
   "cell_type": "markdown",
   "metadata": {},
   "source": [
    "### Flatten Layer\n",
    "Implement the `flatten` function to change the dimension of `x_tensor` from a 4-D tensor to a 2-D tensor.  The output should be the shape (*Batch Size*, *Flattened Image Size*). Shortcut option: you can use classes from the [TensorFlow Layers](https://www.tensorflow.org/api_docs/python/tf/layers) or [TensorFlow Layers (contrib)](https://www.tensorflow.org/api_guides/python/contrib.layers) packages for this layer. For more of a challenge, only use other TensorFlow packages."
   ]
  },
  {
   "cell_type": "code",
   "execution_count": 277,
   "metadata": {},
   "outputs": [
    {
     "name": "stdout",
     "output_type": "stream",
     "text": [
      "Tests Passed\n"
     ]
    }
   ],
   "source": [
    "def flatten(x_tensor):\n",
    "    \"\"\"\n",
    "    Flatten x_tensor to (Batch Size, Flattened Image Size)\n",
    "    : x_tensor: A tensor of size (Batch Size, ...), where ... are the image dimensions.\n",
    "    : return: A tensor of size (Batch Size, Flattened Image Size).\n",
    "    \"\"\"\n",
    "    # TODO: Implement Function\n",
    "    return tf.contrib.layers.flatten(x_tensor)\n",
    "\n",
    "\n",
    "\"\"\"\n",
    "DON'T MODIFY ANYTHING IN THIS CELL THAT IS BELOW THIS LINE\n",
    "\"\"\"\n",
    "tests.test_flatten(flatten)"
   ]
  },
  {
   "cell_type": "markdown",
   "metadata": {},
   "source": [
    "### Fully-Connected Layer\n",
    "Implement the `fully_conn` function to apply a fully connected layer to `x_tensor` with the shape (*Batch Size*, *num_outputs*). Shortcut option: you can use classes from the [TensorFlow Layers](https://www.tensorflow.org/api_docs/python/tf/layers) or [TensorFlow Layers (contrib)](https://www.tensorflow.org/api_guides/python/contrib.layers) packages for this layer. For more of a challenge, only use other TensorFlow packages."
   ]
  },
  {
   "cell_type": "code",
   "execution_count": 278,
   "metadata": {},
   "outputs": [
    {
     "name": "stdout",
     "output_type": "stream",
     "text": [
      "Tests Passed\n"
     ]
    }
   ],
   "source": [
    "def fully_conn(x_tensor, num_outputs):\n",
    "    \"\"\"\n",
    "    Apply a fully connected layer to x_tensor using weight and bias\n",
    "    : x_tensor: A 2-D tensor where the first dimension is batch size.\n",
    "    : num_outputs: The number of output that the new tensor should be.\n",
    "    : return: A 2-D tensor where the second dimension is num_outputs.\n",
    "    \"\"\"\n",
    "    # TODO: Implement Function\n",
    "    return tf.contrib.layers.fully_connected(x_tensor,num_outputs)\n",
    "\n",
    "\n",
    "\"\"\"\n",
    "DON'T MODIFY ANYTHING IN THIS CELL THAT IS BELOW THIS LINE\n",
    "\"\"\"\n",
    "tests.test_fully_conn(fully_conn)"
   ]
  },
  {
   "cell_type": "markdown",
   "metadata": {},
   "source": [
    "### Output Layer\n",
    "Implement the `output` function to apply a fully connected layer to `x_tensor` with the shape (*Batch Size*, *num_outputs*). Shortcut option: you can use classes from the [TensorFlow Layers](https://www.tensorflow.org/api_docs/python/tf/layers) or [TensorFlow Layers (contrib)](https://www.tensorflow.org/api_guides/python/contrib.layers) packages for this layer. For more of a challenge, only use other TensorFlow packages.\n",
    "\n",
    "**Note:** Activation, softmax, or cross entropy should **not** be applied to this."
   ]
  },
  {
   "cell_type": "code",
   "execution_count": 279,
   "metadata": {},
   "outputs": [
    {
     "name": "stdout",
     "output_type": "stream",
     "text": [
      "Tests Passed\n"
     ]
    }
   ],
   "source": [
    "def output(x_tensor, num_outputs):\n",
    "    \"\"\"\n",
    "    Apply a output layer to x_tensor using weight and bias\n",
    "    : x_tensor: A 2-D tensor where the first dimension is batch size.\n",
    "    : num_outputs: The number of output that the new tensor should be.\n",
    "    : return: A 2-D tensor where the second dimension is num_outputs.\n",
    "    \"\"\"\n",
    "    # TODO: Implement Function\n",
    "    return tf.contrib.layers.fully_connected(x_tensor,num_outputs,activation_fn=None)\n",
    "\n",
    "\n",
    "\"\"\"\n",
    "DON'T MODIFY ANYTHING IN THIS CELL THAT IS BELOW THIS LINE\n",
    "\"\"\"\n",
    "tests.test_output(output)"
   ]
  },
  {
   "cell_type": "markdown",
   "metadata": {},
   "source": [
    "### Create Convolutional Model\n",
    "Implement the function `conv_net` to create a convolutional neural network model. The function takes in a batch of images, `x`, and outputs logits.  Use the layers you created above to create this model:\n",
    "\n",
    "* Apply 1, 2, or 3 Convolution and Max Pool layers\n",
    "* Apply a Flatten Layer\n",
    "* Apply 1, 2, or 3 Fully Connected Layers\n",
    "* Apply an Output Layer\n",
    "* Return the output\n",
    "* Apply [TensorFlow's Dropout](https://www.tensorflow.org/api_docs/python/tf/nn/dropout) to one or more layers in the model using `keep_prob`. "
   ]
  },
  {
   "cell_type": "code",
   "execution_count": 280,
   "metadata": {},
   "outputs": [
    {
     "name": "stdout",
     "output_type": "stream",
     "text": [
      "pooled1.get_shape(): {} (?, 16, 16, 4)\n",
      "pooled1.get_shape(): {} (?, 8, 8, 8)\n",
      "pooled1.get_shape(): {} (?, 4, 4, 16)\n",
      "flat1.get_shape(): {} (?, 256)\n",
      "pooled1.get_shape(): {} (?, 16, 16, 4)\n",
      "pooled1.get_shape(): {} (?, 8, 8, 8)\n",
      "pooled1.get_shape(): {} (?, 4, 4, 16)\n",
      "flat1.get_shape(): {} (?, 256)\n",
      "Neural Network Built!\n"
     ]
    }
   ],
   "source": [
    "def conv_net(x, keep_prob):\n",
    "    \"\"\"\n",
    "    Create a convolutional neural network model\n",
    "    : x: Placeholder tensor that holds image data.\n",
    "    : keep_prob: Placeholder tensor that hold dropout keep probability.\n",
    "    : return: Tensor that represents logits\n",
    "    \"\"\"\n",
    "    # TODO: Apply 1, 2, or 3 Convolution and Max Pool layers\n",
    "    #    Play around with different number of outputs, kernel size and stride\n",
    "    # Function Definition from Above:\n",
    "    conv1 = conv2d_maxpool(x, conv_num_outputs=4, conv_ksize=(4,4), conv_strides=(1,1), pool_ksize=(2,2), pool_strides=(2,2))\n",
    "    conv2 = conv2d_maxpool(conv1, conv_num_outputs=8, conv_ksize=(2,2), conv_strides=(1,1), pool_ksize=(2,2), pool_strides=(2,2))\n",
    "    conv3 = conv2d_maxpool(conv2, conv_num_outputs=16, conv_ksize=(1,1), conv_strides=(1,1), pool_ksize=(2,2), pool_strides=(2,2))\n",
    "    # TODO: Apply a Flatten Layer\n",
    "    # Function Definition from Above:\n",
    "    flat1 = flatten(conv3)\n",
    "    \n",
    "    print(\"flat1.get_shape(): {}\",flat1.get_shape())\n",
    "\n",
    "    # TODO: Apply 1, 2, or 3 Fully Connected Layers\n",
    "    #    Play around with different number of outputs\n",
    "    # Function Definition from Above:\n",
    "    fc1 = fully_conn(flat1, num_outputs=1532)\n",
    "    fc2 = tf.nn.dropout(x=fc1, keep_prob=keep_prob, seed=None)\n",
    "    fc3 = fully_conn(fc2, num_outputs=766)\n",
    "    fc4 = tf.nn.dropout(x=fc3, keep_prob=keep_prob, seed=None)\n",
    "    fc5 = fully_conn(fc4, num_outputs=358)\n",
    "    fc6 = tf.nn.dropout(x=fc5, keep_prob=keep_prob, seed=None)\n",
    "    \n",
    "    # TODO: Apply an Output Layer\n",
    "    #    Set this to the number of classes\n",
    "    # Function Definition from Above:\n",
    "    out = output(fc6, num_outputs=10)\n",
    "    \n",
    "    # TODO: return output\n",
    "    return out\n",
    "\n",
    "\n",
    "\"\"\"\n",
    "DON'T MODIFY ANYTHING IN THIS CELL THAT IS BELOW THIS LINE\n",
    "\"\"\"\n",
    "\n",
    "##############################\n",
    "## Build the Neural Network ##\n",
    "##############################\n",
    "\n",
    "# Remove previous weights, bias, inputs, etc..\n",
    "tf.reset_default_graph()\n",
    "\n",
    "# Inputs\n",
    "x = neural_net_image_input((32, 32, 3))\n",
    "y = neural_net_label_input(10)\n",
    "keep_prob = neural_net_keep_prob_input()\n",
    "\n",
    "# Model\n",
    "logits = conv_net(x, keep_prob)\n",
    "\n",
    "# Name logits Tensor, so that is can be loaded from disk after training\n",
    "logits = tf.identity(logits, name='logits')\n",
    "\n",
    "# Loss and Optimizer\n",
    "cost = tf.reduce_mean(tf.nn.softmax_cross_entropy_with_logits(logits=logits, labels=y))\n",
    "optimizer = tf.train.AdamOptimizer().minimize(cost)\n",
    "\n",
    "# Accuracy\n",
    "correct_pred = tf.equal(tf.argmax(logits, 1), tf.argmax(y, 1))\n",
    "accuracy = tf.reduce_mean(tf.cast(correct_pred, tf.float32), name='accuracy')\n",
    "\n",
    "tests.test_conv_net(conv_net)"
   ]
  },
  {
   "cell_type": "markdown",
   "metadata": {},
   "source": [
    "## Train the Neural Network\n",
    "### Single Optimization\n",
    "Implement the function `train_neural_network` to do a single optimization.  The optimization should use `optimizer` to optimize in `session` with a `feed_dict` of the following:\n",
    "* `x` for image input\n",
    "* `y` for labels\n",
    "* `keep_prob` for keep probability for dropout\n",
    "\n",
    "This function will be called for each batch, so `tf.global_variables_initializer()` has already been called.\n",
    "\n",
    "Note: Nothing needs to be returned. This function is only optimizing the neural network."
   ]
  },
  {
   "cell_type": "code",
   "execution_count": 281,
   "metadata": {},
   "outputs": [
    {
     "name": "stdout",
     "output_type": "stream",
     "text": [
      "Tests Passed\n"
     ]
    }
   ],
   "source": [
    "def train_neural_network(session, optimizer, keep_probability, feature_batch, label_batch):\n",
    "    \"\"\"\n",
    "    Optimize the session on a batch of images and labels\n",
    "    : session: Current TensorFlow session\n",
    "    : optimizer: TensorFlow optimizer function\n",
    "    : keep_probability: keep probability\n",
    "    : feature_batch: Batch of Numpy image data\n",
    "    : label_batch: Batch of Numpy label data\n",
    "    \"\"\"\n",
    "    # TODO: Implement Function\n",
    "    session.run(optimizer, feed_dict={\n",
    "        x: feature_batch,\n",
    "        y: label_batch,\n",
    "        keep_prob: keep_probability})\n",
    "\n",
    "\n",
    "\"\"\"\n",
    "DON'T MODIFY ANYTHING IN THIS CELL THAT IS BELOW THIS LINE\n",
    "\"\"\"\n",
    "tests.test_train_nn(train_neural_network)"
   ]
  },
  {
   "cell_type": "markdown",
   "metadata": {},
   "source": [
    "### Show Stats\n",
    "Implement the function `print_stats` to print loss and validation accuracy.  Use the global variables `valid_features` and `valid_labels` to calculate validation accuracy.  Use a keep probability of `1.0` to calculate the loss and validation accuracy."
   ]
  },
  {
   "cell_type": "code",
   "execution_count": 282,
   "metadata": {
    "collapsed": true
   },
   "outputs": [],
   "source": [
    "def print_stats(session, feature_batch, label_batch, cost, accuracy):\n",
    "    \"\"\"\n",
    "    Print information about loss and validation accuracy\n",
    "    : session: Current TensorFlow session\n",
    "    : feature_batch: Batch of Numpy image data\n",
    "    : label_batch: Batch of Numpy label data\n",
    "    : cost: TensorFlow cost function\n",
    "    : accuracy: TensorFlow accuracy function\n",
    "    \"\"\"\n",
    "    # TODO: Implement Function\n",
    "    \"\"\"\n",
    "    print(session.run(accuracy, feed_dict={\n",
    "        x: valid_features,\n",
    "        y: valid_labels,\n",
    "        keep_prob: 1.0})\n",
    "        )\n",
    "    \"\"\"\n",
    "    loss = session.run(cost, feed_dict={x: feature_batch, y: label_batch, keep_prob: 1.})\n",
    "    valid_acc = session.run(accuracy, feed_dict={\n",
    "        x: valid_features,\n",
    "        y: valid_labels,\n",
    "        keep_prob: 1.})\n",
    "\n",
    "    print('Loss: {:>10.4f} Validation Accuracy: {:.6f}'.format(\n",
    "        loss,\n",
    "        valid_acc))\n",
    "\n",
    "    return None"
   ]
  },
  {
   "cell_type": "markdown",
   "metadata": {},
   "source": [
    "### Hyperparameters\n",
    "Tune the following parameters:\n",
    "* Set `epochs` to the number of iterations until the network stops learning or start overfitting\n",
    "* Set `batch_size` to the highest number that your machine has memory for.  Most people set them to common sizes of memory:\n",
    " * 64\n",
    " * 128\n",
    " * 256\n",
    " * ...\n",
    "* Set `keep_probability` to the probability of keeping a node using dropout"
   ]
  },
  {
   "cell_type": "code",
   "execution_count": 283,
   "metadata": {
    "collapsed": true
   },
   "outputs": [],
   "source": [
    "# TODO: Tune Parameters\n",
    "epochs = 50\n",
    "batch_size = 256\n",
    "keep_probability = 0.5"
   ]
  },
  {
   "cell_type": "markdown",
   "metadata": {},
   "source": [
    "### Train on a Single CIFAR-10 Batch\n",
    "Instead of training the neural network on all the CIFAR-10 batches of data, let's use a single batch. This should save time while you iterate on the model to get a better accuracy.  Once the final validation accuracy is 50% or greater, run the model on all the data in the next section."
   ]
  },
  {
   "cell_type": "code",
   "execution_count": 284,
   "metadata": {},
   "outputs": [
    {
     "name": "stdout",
     "output_type": "stream",
     "text": [
      "Checking the Training on a Single Batch...\n",
      "Epoch  1, CIFAR-10 Batch 1:  Loss:     2.2994 Validation Accuracy: 0.102000\n",
      "Epoch  2, CIFAR-10 Batch 1:  Loss:     2.2546 Validation Accuracy: 0.162600\n",
      "Epoch  3, CIFAR-10 Batch 1:  Loss:     2.1216 Validation Accuracy: 0.230800\n",
      "Epoch  4, CIFAR-10 Batch 1:  Loss:     2.1210 Validation Accuracy: 0.259800\n",
      "Epoch  5, CIFAR-10 Batch 1:  Loss:     2.1013 Validation Accuracy: 0.284800\n",
      "Epoch  6, CIFAR-10 Batch 1:  Loss:     2.0297 Validation Accuracy: 0.311200\n",
      "Epoch  7, CIFAR-10 Batch 1:  Loss:     1.8942 Validation Accuracy: 0.357800\n",
      "Epoch  8, CIFAR-10 Batch 1:  Loss:     1.8080 Validation Accuracy: 0.374800\n",
      "Epoch  9, CIFAR-10 Batch 1:  Loss:     1.7174 Validation Accuracy: 0.383400\n",
      "Epoch 10, CIFAR-10 Batch 1:  Loss:     1.6382 Validation Accuracy: 0.388000\n",
      "Epoch 11, CIFAR-10 Batch 1:  Loss:     1.5773 Validation Accuracy: 0.405200\n",
      "Epoch 12, CIFAR-10 Batch 1:  Loss:     1.4366 Validation Accuracy: 0.422400\n",
      "Epoch 13, CIFAR-10 Batch 1:  Loss:     1.3716 Validation Accuracy: 0.427000\n",
      "Epoch 14, CIFAR-10 Batch 1:  Loss:     1.3099 Validation Accuracy: 0.438600\n",
      "Epoch 15, CIFAR-10 Batch 1:  Loss:     1.2245 Validation Accuracy: 0.446800\n",
      "Epoch 16, CIFAR-10 Batch 1:  Loss:     1.1449 Validation Accuracy: 0.448400\n",
      "Epoch 17, CIFAR-10 Batch 1:  Loss:     1.0605 Validation Accuracy: 0.461200\n",
      "Epoch 18, CIFAR-10 Batch 1:  Loss:     1.0231 Validation Accuracy: 0.460200\n",
      "Epoch 19, CIFAR-10 Batch 1:  Loss:     0.9515 Validation Accuracy: 0.458200\n",
      "Epoch 20, CIFAR-10 Batch 1:  Loss:     0.8828 Validation Accuracy: 0.474000\n",
      "Epoch 21, CIFAR-10 Batch 1:  Loss:     0.8296 Validation Accuracy: 0.484600\n",
      "Epoch 22, CIFAR-10 Batch 1:  Loss:     0.7688 Validation Accuracy: 0.485800\n",
      "Epoch 23, CIFAR-10 Batch 1:  Loss:     0.7349 Validation Accuracy: 0.487400\n",
      "Epoch 24, CIFAR-10 Batch 1:  Loss:     0.7130 Validation Accuracy: 0.503000\n",
      "Epoch 25, CIFAR-10 Batch 1:  Loss:     0.6816 Validation Accuracy: 0.501800\n",
      "Epoch 26, CIFAR-10 Batch 1:  Loss:     0.6316 Validation Accuracy: 0.499000\n",
      "Epoch 27, CIFAR-10 Batch 1:  Loss:     0.5998 Validation Accuracy: 0.500000\n",
      "Epoch 28, CIFAR-10 Batch 1:  Loss:     0.5770 Validation Accuracy: 0.499600\n",
      "Epoch 29, CIFAR-10 Batch 1:  Loss:     0.5350 Validation Accuracy: 0.498000\n",
      "Epoch 30, CIFAR-10 Batch 1:  Loss:     0.5147 Validation Accuracy: 0.503000\n",
      "Epoch 31, CIFAR-10 Batch 1:  Loss:     0.4380 Validation Accuracy: 0.511800\n",
      "Epoch 32, CIFAR-10 Batch 1:  Loss:     0.4439 Validation Accuracy: 0.506000\n",
      "Epoch 33, CIFAR-10 Batch 1:  Loss:     0.4003 Validation Accuracy: 0.518800\n",
      "Epoch 34, CIFAR-10 Batch 1:  Loss:     0.3535 Validation Accuracy: 0.515400\n",
      "Epoch 35, CIFAR-10 Batch 1:  Loss:     0.3157 Validation Accuracy: 0.511800\n",
      "Epoch 36, CIFAR-10 Batch 1:  Loss:     0.3194 Validation Accuracy: 0.508200\n",
      "Epoch 37, CIFAR-10 Batch 1:  Loss:     0.2616 Validation Accuracy: 0.516600\n",
      "Epoch 38, CIFAR-10 Batch 1:  Loss:     0.2707 Validation Accuracy: 0.519600\n",
      "Epoch 39, CIFAR-10 Batch 1:  Loss:     0.2606 Validation Accuracy: 0.515800\n",
      "Epoch 40, CIFAR-10 Batch 1:  Loss:     0.2373 Validation Accuracy: 0.518800\n",
      "Epoch 41, CIFAR-10 Batch 1:  Loss:     0.1997 Validation Accuracy: 0.524800\n",
      "Epoch 42, CIFAR-10 Batch 1:  Loss:     0.1911 Validation Accuracy: 0.525600\n",
      "Epoch 43, CIFAR-10 Batch 1:  Loss:     0.1929 Validation Accuracy: 0.526800\n",
      "Epoch 44, CIFAR-10 Batch 1:  Loss:     0.1843 Validation Accuracy: 0.534000\n",
      "Epoch 45, CIFAR-10 Batch 1:  Loss:     0.1473 Validation Accuracy: 0.528000\n",
      "Epoch 46, CIFAR-10 Batch 1:  Loss:     0.1561 Validation Accuracy: 0.524800\n",
      "Epoch 47, CIFAR-10 Batch 1:  Loss:     0.1512 Validation Accuracy: 0.523800\n",
      "Epoch 48, CIFAR-10 Batch 1:  Loss:     0.1384 Validation Accuracy: 0.527000\n",
      "Epoch 49, CIFAR-10 Batch 1:  Loss:     0.1418 Validation Accuracy: 0.525800\n",
      "Epoch 50, CIFAR-10 Batch 1:  Loss:     0.1319 Validation Accuracy: 0.524600\n"
     ]
    }
   ],
   "source": [
    "\"\"\"\n",
    "DON'T MODIFY ANYTHING IN THIS CELL\n",
    "\"\"\"\n",
    "print('Checking the Training on a Single Batch...')\n",
    "with tf.Session() as sess:\n",
    "    # Initializing the variables\n",
    "    sess.run(tf.global_variables_initializer())\n",
    "    \n",
    "    # Training cycle\n",
    "    for epoch in range(epochs):\n",
    "        batch_i = 1\n",
    "        for batch_features, batch_labels in helper.load_preprocess_training_batch(batch_i, batch_size):\n",
    "            train_neural_network(sess, optimizer, keep_probability, batch_features, batch_labels)\n",
    "        print('Epoch {:>2}, CIFAR-10 Batch {}:  '.format(epoch + 1, batch_i), end='')\n",
    "        print_stats(sess, batch_features, batch_labels, cost, accuracy)"
   ]
  },
  {
   "cell_type": "markdown",
   "metadata": {},
   "source": [
    "### Fully Train the Model\n",
    "Now that you got a good accuracy with a single CIFAR-10 batch, try it with all five batches."
   ]
  },
  {
   "cell_type": "code",
   "execution_count": 285,
   "metadata": {},
   "outputs": [
    {
     "name": "stdout",
     "output_type": "stream",
     "text": [
      "Training...\n",
      "Epoch  1, CIFAR-10 Batch 1:  Loss:     2.2994 Validation Accuracy: 0.099800\n",
      "Epoch  1, CIFAR-10 Batch 2:  Loss:     2.2669 Validation Accuracy: 0.145200\n",
      "Epoch  1, CIFAR-10 Batch 3:  Loss:     2.0537 Validation Accuracy: 0.198600\n",
      "Epoch  1, CIFAR-10 Batch 4:  Loss:     1.9780 Validation Accuracy: 0.266000\n",
      "Epoch  1, CIFAR-10 Batch 5:  Loss:     2.0781 Validation Accuracy: 0.281400\n",
      "Epoch  2, CIFAR-10 Batch 1:  Loss:     2.1235 Validation Accuracy: 0.315200\n",
      "Epoch  2, CIFAR-10 Batch 2:  Loss:     1.9459 Validation Accuracy: 0.339600\n",
      "Epoch  2, CIFAR-10 Batch 3:  Loss:     1.6143 Validation Accuracy: 0.345600\n",
      "Epoch  2, CIFAR-10 Batch 4:  Loss:     1.6081 Validation Accuracy: 0.384400\n",
      "Epoch  2, CIFAR-10 Batch 5:  Loss:     1.7849 Validation Accuracy: 0.395200\n",
      "Epoch  3, CIFAR-10 Batch 1:  Loss:     1.7994 Validation Accuracy: 0.410600\n",
      "Epoch  3, CIFAR-10 Batch 2:  Loss:     1.6372 Validation Accuracy: 0.416200\n",
      "Epoch  3, CIFAR-10 Batch 3:  Loss:     1.4328 Validation Accuracy: 0.418000\n",
      "Epoch  3, CIFAR-10 Batch 4:  Loss:     1.4032 Validation Accuracy: 0.446400\n",
      "Epoch  3, CIFAR-10 Batch 5:  Loss:     1.6042 Validation Accuracy: 0.451600\n",
      "Epoch  4, CIFAR-10 Batch 1:  Loss:     1.6760 Validation Accuracy: 0.441800\n",
      "Epoch  4, CIFAR-10 Batch 2:  Loss:     1.5526 Validation Accuracy: 0.457600\n",
      "Epoch  4, CIFAR-10 Batch 3:  Loss:     1.3648 Validation Accuracy: 0.439800\n",
      "Epoch  4, CIFAR-10 Batch 4:  Loss:     1.3057 Validation Accuracy: 0.467400\n",
      "Epoch  4, CIFAR-10 Batch 5:  Loss:     1.4420 Validation Accuracy: 0.460200\n",
      "Epoch  5, CIFAR-10 Batch 1:  Loss:     1.5534 Validation Accuracy: 0.461000\n",
      "Epoch  5, CIFAR-10 Batch 2:  Loss:     1.4556 Validation Accuracy: 0.460000\n",
      "Epoch  5, CIFAR-10 Batch 3:  Loss:     1.2757 Validation Accuracy: 0.464000\n",
      "Epoch  5, CIFAR-10 Batch 4:  Loss:     1.1963 Validation Accuracy: 0.479400\n",
      "Epoch  5, CIFAR-10 Batch 5:  Loss:     1.3406 Validation Accuracy: 0.482200\n",
      "Epoch  6, CIFAR-10 Batch 1:  Loss:     1.4532 Validation Accuracy: 0.486400\n",
      "Epoch  6, CIFAR-10 Batch 2:  Loss:     1.3870 Validation Accuracy: 0.477400\n",
      "Epoch  6, CIFAR-10 Batch 3:  Loss:     1.2209 Validation Accuracy: 0.489000\n",
      "Epoch  6, CIFAR-10 Batch 4:  Loss:     1.1294 Validation Accuracy: 0.501400\n",
      "Epoch  6, CIFAR-10 Batch 5:  Loss:     1.2349 Validation Accuracy: 0.495400\n",
      "Epoch  7, CIFAR-10 Batch 1:  Loss:     1.4077 Validation Accuracy: 0.498000\n",
      "Epoch  7, CIFAR-10 Batch 2:  Loss:     1.3398 Validation Accuracy: 0.496800\n",
      "Epoch  7, CIFAR-10 Batch 3:  Loss:     1.1860 Validation Accuracy: 0.481800\n",
      "Epoch  7, CIFAR-10 Batch 4:  Loss:     1.0795 Validation Accuracy: 0.509000\n",
      "Epoch  7, CIFAR-10 Batch 5:  Loss:     1.1545 Validation Accuracy: 0.511400\n",
      "Epoch  8, CIFAR-10 Batch 1:  Loss:     1.2826 Validation Accuracy: 0.511000\n",
      "Epoch  8, CIFAR-10 Batch 2:  Loss:     1.2838 Validation Accuracy: 0.505800\n",
      "Epoch  8, CIFAR-10 Batch 3:  Loss:     1.1444 Validation Accuracy: 0.501400\n",
      "Epoch  8, CIFAR-10 Batch 4:  Loss:     1.0527 Validation Accuracy: 0.526400\n",
      "Epoch  8, CIFAR-10 Batch 5:  Loss:     1.1088 Validation Accuracy: 0.522200\n",
      "Epoch  9, CIFAR-10 Batch 1:  Loss:     1.2706 Validation Accuracy: 0.520000\n",
      "Epoch  9, CIFAR-10 Batch 2:  Loss:     1.2292 Validation Accuracy: 0.523000\n",
      "Epoch  9, CIFAR-10 Batch 3:  Loss:     1.0963 Validation Accuracy: 0.509800\n",
      "Epoch  9, CIFAR-10 Batch 4:  Loss:     1.0071 Validation Accuracy: 0.513800\n",
      "Epoch  9, CIFAR-10 Batch 5:  Loss:     1.0365 Validation Accuracy: 0.528600\n",
      "Epoch 10, CIFAR-10 Batch 1:  Loss:     1.1711 Validation Accuracy: 0.526600\n",
      "Epoch 10, CIFAR-10 Batch 2:  Loss:     1.2022 Validation Accuracy: 0.531800\n",
      "Epoch 10, CIFAR-10 Batch 3:  Loss:     1.0428 Validation Accuracy: 0.529800\n",
      "Epoch 10, CIFAR-10 Batch 4:  Loss:     0.9685 Validation Accuracy: 0.531400\n",
      "Epoch 10, CIFAR-10 Batch 5:  Loss:     0.9981 Validation Accuracy: 0.537600\n",
      "Epoch 11, CIFAR-10 Batch 1:  Loss:     1.1323 Validation Accuracy: 0.537800\n",
      "Epoch 11, CIFAR-10 Batch 2:  Loss:     1.0572 Validation Accuracy: 0.533000\n",
      "Epoch 11, CIFAR-10 Batch 3:  Loss:     1.0140 Validation Accuracy: 0.538400\n",
      "Epoch 11, CIFAR-10 Batch 4:  Loss:     0.9112 Validation Accuracy: 0.545600\n",
      "Epoch 11, CIFAR-10 Batch 5:  Loss:     0.9599 Validation Accuracy: 0.540200\n",
      "Epoch 12, CIFAR-10 Batch 1:  Loss:     1.0733 Validation Accuracy: 0.541800\n",
      "Epoch 12, CIFAR-10 Batch 2:  Loss:     1.0581 Validation Accuracy: 0.536800\n",
      "Epoch 12, CIFAR-10 Batch 3:  Loss:     0.9740 Validation Accuracy: 0.539600\n",
      "Epoch 12, CIFAR-10 Batch 4:  Loss:     0.9120 Validation Accuracy: 0.545200\n",
      "Epoch 12, CIFAR-10 Batch 5:  Loss:     0.8912 Validation Accuracy: 0.549400\n",
      "Epoch 13, CIFAR-10 Batch 1:  Loss:     1.0133 Validation Accuracy: 0.547800\n",
      "Epoch 13, CIFAR-10 Batch 2:  Loss:     1.0025 Validation Accuracy: 0.542400\n",
      "Epoch 13, CIFAR-10 Batch 3:  Loss:     0.9497 Validation Accuracy: 0.551600\n",
      "Epoch 13, CIFAR-10 Batch 4:  Loss:     0.8819 Validation Accuracy: 0.562200\n",
      "Epoch 13, CIFAR-10 Batch 5:  Loss:     0.8024 Validation Accuracy: 0.551200\n",
      "Epoch 14, CIFAR-10 Batch 1:  Loss:     0.9980 Validation Accuracy: 0.554800\n",
      "Epoch 14, CIFAR-10 Batch 2:  Loss:     0.9656 Validation Accuracy: 0.554600\n",
      "Epoch 14, CIFAR-10 Batch 3:  Loss:     0.9553 Validation Accuracy: 0.545800\n",
      "Epoch 14, CIFAR-10 Batch 4:  Loss:     0.8596 Validation Accuracy: 0.570000\n",
      "Epoch 14, CIFAR-10 Batch 5:  Loss:     0.8241 Validation Accuracy: 0.561400\n",
      "Epoch 15, CIFAR-10 Batch 1:  Loss:     0.9622 Validation Accuracy: 0.558000\n",
      "Epoch 15, CIFAR-10 Batch 2:  Loss:     0.9147 Validation Accuracy: 0.559400\n",
      "Epoch 15, CIFAR-10 Batch 3:  Loss:     0.8649 Validation Accuracy: 0.555400\n",
      "Epoch 15, CIFAR-10 Batch 4:  Loss:     0.8262 Validation Accuracy: 0.566000\n",
      "Epoch 15, CIFAR-10 Batch 5:  Loss:     0.7382 Validation Accuracy: 0.562800\n",
      "Epoch 16, CIFAR-10 Batch 1:  Loss:     0.9237 Validation Accuracy: 0.567000\n",
      "Epoch 16, CIFAR-10 Batch 2:  Loss:     0.9143 Validation Accuracy: 0.565800\n",
      "Epoch 16, CIFAR-10 Batch 3:  Loss:     0.8442 Validation Accuracy: 0.558600\n",
      "Epoch 16, CIFAR-10 Batch 4:  Loss:     0.7950 Validation Accuracy: 0.566600\n",
      "Epoch 16, CIFAR-10 Batch 5:  Loss:     0.7283 Validation Accuracy: 0.565200\n",
      "Epoch 17, CIFAR-10 Batch 1:  Loss:     0.9018 Validation Accuracy: 0.565200\n",
      "Epoch 17, CIFAR-10 Batch 2:  Loss:     0.8907 Validation Accuracy: 0.566200\n",
      "Epoch 17, CIFAR-10 Batch 3:  Loss:     0.8030 Validation Accuracy: 0.563600\n",
      "Epoch 17, CIFAR-10 Batch 4:  Loss:     0.7908 Validation Accuracy: 0.572800\n",
      "Epoch 17, CIFAR-10 Batch 5:  Loss:     0.6778 Validation Accuracy: 0.569000\n",
      "Epoch 18, CIFAR-10 Batch 1:  Loss:     0.8617 Validation Accuracy: 0.566400\n",
      "Epoch 18, CIFAR-10 Batch 2:  Loss:     0.8085 Validation Accuracy: 0.567000\n",
      "Epoch 18, CIFAR-10 Batch 3:  Loss:     0.7676 Validation Accuracy: 0.567800\n",
      "Epoch 18, CIFAR-10 Batch 4:  Loss:     0.7236 Validation Accuracy: 0.567200\n",
      "Epoch 18, CIFAR-10 Batch 5:  Loss:     0.6959 Validation Accuracy: 0.569600\n",
      "Epoch 19, CIFAR-10 Batch 1:  Loss:     0.8201 Validation Accuracy: 0.564600\n",
      "Epoch 19, CIFAR-10 Batch 2:  Loss:     0.7634 Validation Accuracy: 0.566600\n",
      "Epoch 19, CIFAR-10 Batch 3:  Loss:     0.7496 Validation Accuracy: 0.564600\n",
      "Epoch 19, CIFAR-10 Batch 4:  Loss:     0.6999 Validation Accuracy: 0.577800\n",
      "Epoch 19, CIFAR-10 Batch 5:  Loss:     0.6482 Validation Accuracy: 0.573400\n",
      "Epoch 20, CIFAR-10 Batch 1:  Loss:     0.7989 Validation Accuracy: 0.564200\n",
      "Epoch 20, CIFAR-10 Batch 2:  Loss:     0.7293 Validation Accuracy: 0.573800\n",
      "Epoch 20, CIFAR-10 Batch 3:  Loss:     0.7160 Validation Accuracy: 0.565600\n",
      "Epoch 20, CIFAR-10 Batch 4:  Loss:     0.6632 Validation Accuracy: 0.581400\n",
      "Epoch 20, CIFAR-10 Batch 5:  Loss:     0.6134 Validation Accuracy: 0.579800\n",
      "Epoch 21, CIFAR-10 Batch 1:  Loss:     0.7487 Validation Accuracy: 0.578600\n",
      "Epoch 21, CIFAR-10 Batch 2:  Loss:     0.6852 Validation Accuracy: 0.580200\n",
      "Epoch 21, CIFAR-10 Batch 3:  Loss:     0.7470 Validation Accuracy: 0.574600\n",
      "Epoch 21, CIFAR-10 Batch 4:  Loss:     0.6458 Validation Accuracy: 0.582400\n",
      "Epoch 21, CIFAR-10 Batch 5:  Loss:     0.5948 Validation Accuracy: 0.576600\n",
      "Epoch 22, CIFAR-10 Batch 1:  Loss:     0.7346 Validation Accuracy: 0.565600\n",
      "Epoch 22, CIFAR-10 Batch 2:  Loss:     0.6821 Validation Accuracy: 0.568200\n",
      "Epoch 22, CIFAR-10 Batch 3:  Loss:     0.6873 Validation Accuracy: 0.579000\n"
     ]
    },
    {
     "name": "stdout",
     "output_type": "stream",
     "text": [
      "Epoch 22, CIFAR-10 Batch 4:  Loss:     0.6404 Validation Accuracy: 0.586800\n",
      "Epoch 22, CIFAR-10 Batch 5:  Loss:     0.5376 Validation Accuracy: 0.583200\n",
      "Epoch 23, CIFAR-10 Batch 1:  Loss:     0.6779 Validation Accuracy: 0.574400\n",
      "Epoch 23, CIFAR-10 Batch 2:  Loss:     0.6812 Validation Accuracy: 0.570600\n",
      "Epoch 23, CIFAR-10 Batch 3:  Loss:     0.6076 Validation Accuracy: 0.584000\n",
      "Epoch 23, CIFAR-10 Batch 4:  Loss:     0.6012 Validation Accuracy: 0.589600\n",
      "Epoch 23, CIFAR-10 Batch 5:  Loss:     0.5529 Validation Accuracy: 0.578600\n",
      "Epoch 24, CIFAR-10 Batch 1:  Loss:     0.6485 Validation Accuracy: 0.581200\n",
      "Epoch 24, CIFAR-10 Batch 2:  Loss:     0.6115 Validation Accuracy: 0.580000\n",
      "Epoch 24, CIFAR-10 Batch 3:  Loss:     0.6145 Validation Accuracy: 0.575800\n",
      "Epoch 24, CIFAR-10 Batch 4:  Loss:     0.6168 Validation Accuracy: 0.583400\n",
      "Epoch 24, CIFAR-10 Batch 5:  Loss:     0.5063 Validation Accuracy: 0.586600\n",
      "Epoch 25, CIFAR-10 Batch 1:  Loss:     0.5883 Validation Accuracy: 0.581800\n",
      "Epoch 25, CIFAR-10 Batch 2:  Loss:     0.6214 Validation Accuracy: 0.575000\n",
      "Epoch 25, CIFAR-10 Batch 3:  Loss:     0.6058 Validation Accuracy: 0.583200\n",
      "Epoch 25, CIFAR-10 Batch 4:  Loss:     0.6117 Validation Accuracy: 0.588200\n",
      "Epoch 25, CIFAR-10 Batch 5:  Loss:     0.5119 Validation Accuracy: 0.580600\n",
      "Epoch 26, CIFAR-10 Batch 1:  Loss:     0.5611 Validation Accuracy: 0.583000\n",
      "Epoch 26, CIFAR-10 Batch 2:  Loss:     0.5825 Validation Accuracy: 0.586000\n",
      "Epoch 26, CIFAR-10 Batch 3:  Loss:     0.5532 Validation Accuracy: 0.591400\n",
      "Epoch 26, CIFAR-10 Batch 4:  Loss:     0.5169 Validation Accuracy: 0.583600\n",
      "Epoch 26, CIFAR-10 Batch 5:  Loss:     0.4523 Validation Accuracy: 0.592400\n",
      "Epoch 27, CIFAR-10 Batch 1:  Loss:     0.5290 Validation Accuracy: 0.589400\n",
      "Epoch 27, CIFAR-10 Batch 2:  Loss:     0.5512 Validation Accuracy: 0.589000\n",
      "Epoch 27, CIFAR-10 Batch 3:  Loss:     0.5983 Validation Accuracy: 0.579000\n",
      "Epoch 27, CIFAR-10 Batch 4:  Loss:     0.5035 Validation Accuracy: 0.595600\n",
      "Epoch 27, CIFAR-10 Batch 5:  Loss:     0.4193 Validation Accuracy: 0.594000\n",
      "Epoch 28, CIFAR-10 Batch 1:  Loss:     0.4939 Validation Accuracy: 0.590200\n",
      "Epoch 28, CIFAR-10 Batch 2:  Loss:     0.5285 Validation Accuracy: 0.583200\n",
      "Epoch 28, CIFAR-10 Batch 3:  Loss:     0.5495 Validation Accuracy: 0.594400\n",
      "Epoch 28, CIFAR-10 Batch 4:  Loss:     0.5024 Validation Accuracy: 0.592600\n",
      "Epoch 28, CIFAR-10 Batch 5:  Loss:     0.4042 Validation Accuracy: 0.591600\n",
      "Epoch 29, CIFAR-10 Batch 1:  Loss:     0.4739 Validation Accuracy: 0.590200\n",
      "Epoch 29, CIFAR-10 Batch 2:  Loss:     0.5219 Validation Accuracy: 0.578000\n",
      "Epoch 29, CIFAR-10 Batch 3:  Loss:     0.5516 Validation Accuracy: 0.588400\n",
      "Epoch 29, CIFAR-10 Batch 4:  Loss:     0.5174 Validation Accuracy: 0.584200\n",
      "Epoch 29, CIFAR-10 Batch 5:  Loss:     0.4136 Validation Accuracy: 0.591400\n",
      "Epoch 30, CIFAR-10 Batch 1:  Loss:     0.4654 Validation Accuracy: 0.594000\n",
      "Epoch 30, CIFAR-10 Batch 2:  Loss:     0.5254 Validation Accuracy: 0.583600\n",
      "Epoch 30, CIFAR-10 Batch 3:  Loss:     0.4906 Validation Accuracy: 0.594000\n",
      "Epoch 30, CIFAR-10 Batch 4:  Loss:     0.4517 Validation Accuracy: 0.584400\n",
      "Epoch 30, CIFAR-10 Batch 5:  Loss:     0.3953 Validation Accuracy: 0.593200\n",
      "Epoch 31, CIFAR-10 Batch 1:  Loss:     0.4543 Validation Accuracy: 0.595400\n",
      "Epoch 31, CIFAR-10 Batch 2:  Loss:     0.5002 Validation Accuracy: 0.598000\n",
      "Epoch 31, CIFAR-10 Batch 3:  Loss:     0.4513 Validation Accuracy: 0.598200\n",
      "Epoch 31, CIFAR-10 Batch 4:  Loss:     0.4473 Validation Accuracy: 0.576600\n",
      "Epoch 31, CIFAR-10 Batch 5:  Loss:     0.3831 Validation Accuracy: 0.594600\n",
      "Epoch 32, CIFAR-10 Batch 1:  Loss:     0.4466 Validation Accuracy: 0.590800\n",
      "Epoch 32, CIFAR-10 Batch 2:  Loss:     0.4790 Validation Accuracy: 0.598000\n",
      "Epoch 32, CIFAR-10 Batch 3:  Loss:     0.4233 Validation Accuracy: 0.600800\n",
      "Epoch 32, CIFAR-10 Batch 4:  Loss:     0.4440 Validation Accuracy: 0.576600\n",
      "Epoch 32, CIFAR-10 Batch 5:  Loss:     0.3967 Validation Accuracy: 0.584800\n",
      "Epoch 33, CIFAR-10 Batch 1:  Loss:     0.4107 Validation Accuracy: 0.605000\n",
      "Epoch 33, CIFAR-10 Batch 2:  Loss:     0.4941 Validation Accuracy: 0.597800\n",
      "Epoch 33, CIFAR-10 Batch 3:  Loss:     0.4610 Validation Accuracy: 0.598400\n",
      "Epoch 33, CIFAR-10 Batch 4:  Loss:     0.3979 Validation Accuracy: 0.595600\n",
      "Epoch 33, CIFAR-10 Batch 5:  Loss:     0.3390 Validation Accuracy: 0.603000\n",
      "Epoch 34, CIFAR-10 Batch 1:  Loss:     0.3942 Validation Accuracy: 0.601800\n",
      "Epoch 34, CIFAR-10 Batch 2:  Loss:     0.4377 Validation Accuracy: 0.592600\n",
      "Epoch 34, CIFAR-10 Batch 3:  Loss:     0.4385 Validation Accuracy: 0.601200\n",
      "Epoch 34, CIFAR-10 Batch 4:  Loss:     0.3802 Validation Accuracy: 0.598000\n",
      "Epoch 34, CIFAR-10 Batch 5:  Loss:     0.3255 Validation Accuracy: 0.598200\n",
      "Epoch 35, CIFAR-10 Batch 1:  Loss:     0.3658 Validation Accuracy: 0.608600\n",
      "Epoch 35, CIFAR-10 Batch 2:  Loss:     0.4342 Validation Accuracy: 0.584600\n",
      "Epoch 35, CIFAR-10 Batch 3:  Loss:     0.3734 Validation Accuracy: 0.610600\n",
      "Epoch 35, CIFAR-10 Batch 4:  Loss:     0.3657 Validation Accuracy: 0.604600\n",
      "Epoch 35, CIFAR-10 Batch 5:  Loss:     0.2991 Validation Accuracy: 0.602000\n",
      "Epoch 36, CIFAR-10 Batch 1:  Loss:     0.3122 Validation Accuracy: 0.611600\n",
      "Epoch 36, CIFAR-10 Batch 2:  Loss:     0.4193 Validation Accuracy: 0.600400\n",
      "Epoch 36, CIFAR-10 Batch 3:  Loss:     0.3475 Validation Accuracy: 0.606400\n",
      "Epoch 36, CIFAR-10 Batch 4:  Loss:     0.3563 Validation Accuracy: 0.595400\n",
      "Epoch 36, CIFAR-10 Batch 5:  Loss:     0.3121 Validation Accuracy: 0.604200\n",
      "Epoch 37, CIFAR-10 Batch 1:  Loss:     0.3067 Validation Accuracy: 0.608400\n",
      "Epoch 37, CIFAR-10 Batch 2:  Loss:     0.4002 Validation Accuracy: 0.597000\n",
      "Epoch 37, CIFAR-10 Batch 3:  Loss:     0.3574 Validation Accuracy: 0.607800\n",
      "Epoch 37, CIFAR-10 Batch 4:  Loss:     0.3078 Validation Accuracy: 0.606000\n",
      "Epoch 37, CIFAR-10 Batch 5:  Loss:     0.2729 Validation Accuracy: 0.606200\n",
      "Epoch 38, CIFAR-10 Batch 1:  Loss:     0.3063 Validation Accuracy: 0.604600\n",
      "Epoch 38, CIFAR-10 Batch 2:  Loss:     0.4029 Validation Accuracy: 0.595000\n",
      "Epoch 38, CIFAR-10 Batch 3:  Loss:     0.3432 Validation Accuracy: 0.607000\n",
      "Epoch 38, CIFAR-10 Batch 4:  Loss:     0.3084 Validation Accuracy: 0.602800\n",
      "Epoch 38, CIFAR-10 Batch 5:  Loss:     0.2802 Validation Accuracy: 0.606000\n",
      "Epoch 39, CIFAR-10 Batch 1:  Loss:     0.2948 Validation Accuracy: 0.604800\n",
      "Epoch 39, CIFAR-10 Batch 2:  Loss:     0.3679 Validation Accuracy: 0.604800\n",
      "Epoch 39, CIFAR-10 Batch 3:  Loss:     0.3322 Validation Accuracy: 0.611200\n",
      "Epoch 39, CIFAR-10 Batch 4:  Loss:     0.2819 Validation Accuracy: 0.601000\n",
      "Epoch 39, CIFAR-10 Batch 5:  Loss:     0.3146 Validation Accuracy: 0.613000\n",
      "Epoch 40, CIFAR-10 Batch 1:  Loss:     0.2693 Validation Accuracy: 0.611000\n",
      "Epoch 40, CIFAR-10 Batch 2:  Loss:     0.3527 Validation Accuracy: 0.601800\n",
      "Epoch 40, CIFAR-10 Batch 3:  Loss:     0.3038 Validation Accuracy: 0.605400\n",
      "Epoch 40, CIFAR-10 Batch 4:  Loss:     0.2980 Validation Accuracy: 0.602800\n",
      "Epoch 40, CIFAR-10 Batch 5:  Loss:     0.2828 Validation Accuracy: 0.604600\n",
      "Epoch 41, CIFAR-10 Batch 1:  Loss:     0.2608 Validation Accuracy: 0.609200\n",
      "Epoch 41, CIFAR-10 Batch 2:  Loss:     0.3748 Validation Accuracy: 0.604000\n",
      "Epoch 41, CIFAR-10 Batch 3:  Loss:     0.3013 Validation Accuracy: 0.605000\n",
      "Epoch 41, CIFAR-10 Batch 4:  Loss:     0.2764 Validation Accuracy: 0.598600\n",
      "Epoch 41, CIFAR-10 Batch 5:  Loss:     0.2344 Validation Accuracy: 0.609400\n",
      "Epoch 42, CIFAR-10 Batch 1:  Loss:     0.2434 Validation Accuracy: 0.611000\n",
      "Epoch 42, CIFAR-10 Batch 2:  Loss:     0.3694 Validation Accuracy: 0.596600\n",
      "Epoch 42, CIFAR-10 Batch 3:  Loss:     0.2836 Validation Accuracy: 0.608200\n",
      "Epoch 42, CIFAR-10 Batch 4:  Loss:     0.2726 Validation Accuracy: 0.597600\n",
      "Epoch 42, CIFAR-10 Batch 5:  Loss:     0.2402 Validation Accuracy: 0.612800\n",
      "Epoch 43, CIFAR-10 Batch 1:  Loss:     0.2446 Validation Accuracy: 0.608400\n",
      "Epoch 43, CIFAR-10 Batch 2:  Loss:     0.3437 Validation Accuracy: 0.597600\n",
      "Epoch 43, CIFAR-10 Batch 3:  Loss:     0.2779 Validation Accuracy: 0.608400\n",
      "Epoch 43, CIFAR-10 Batch 4:  Loss:     0.2414 Validation Accuracy: 0.603600\n",
      "Epoch 43, CIFAR-10 Batch 5:  Loss:     0.2398 Validation Accuracy: 0.604200\n",
      "Epoch 44, CIFAR-10 Batch 1:  Loss:     0.2358 Validation Accuracy: 0.608400\n"
     ]
    },
    {
     "name": "stdout",
     "output_type": "stream",
     "text": [
      "Epoch 44, CIFAR-10 Batch 2:  Loss:     0.3296 Validation Accuracy: 0.599600\n",
      "Epoch 44, CIFAR-10 Batch 3:  Loss:     0.2447 Validation Accuracy: 0.602600\n",
      "Epoch 44, CIFAR-10 Batch 4:  Loss:     0.2528 Validation Accuracy: 0.597800\n",
      "Epoch 44, CIFAR-10 Batch 5:  Loss:     0.2340 Validation Accuracy: 0.606600\n",
      "Epoch 45, CIFAR-10 Batch 1:  Loss:     0.2247 Validation Accuracy: 0.608800\n",
      "Epoch 45, CIFAR-10 Batch 2:  Loss:     0.2973 Validation Accuracy: 0.597200\n",
      "Epoch 45, CIFAR-10 Batch 3:  Loss:     0.3029 Validation Accuracy: 0.599600\n",
      "Epoch 45, CIFAR-10 Batch 4:  Loss:     0.2274 Validation Accuracy: 0.602800\n",
      "Epoch 45, CIFAR-10 Batch 5:  Loss:     0.2409 Validation Accuracy: 0.598800\n",
      "Epoch 46, CIFAR-10 Batch 1:  Loss:     0.2220 Validation Accuracy: 0.618200\n",
      "Epoch 46, CIFAR-10 Batch 2:  Loss:     0.2921 Validation Accuracy: 0.604200\n",
      "Epoch 46, CIFAR-10 Batch 3:  Loss:     0.2552 Validation Accuracy: 0.608400\n",
      "Epoch 46, CIFAR-10 Batch 4:  Loss:     0.2045 Validation Accuracy: 0.607400\n",
      "Epoch 46, CIFAR-10 Batch 5:  Loss:     0.2120 Validation Accuracy: 0.616000\n",
      "Epoch 47, CIFAR-10 Batch 1:  Loss:     0.1974 Validation Accuracy: 0.617200\n",
      "Epoch 47, CIFAR-10 Batch 2:  Loss:     0.3068 Validation Accuracy: 0.598800\n",
      "Epoch 47, CIFAR-10 Batch 3:  Loss:     0.2357 Validation Accuracy: 0.606800\n",
      "Epoch 47, CIFAR-10 Batch 4:  Loss:     0.2207 Validation Accuracy: 0.614600\n",
      "Epoch 47, CIFAR-10 Batch 5:  Loss:     0.1982 Validation Accuracy: 0.616200\n",
      "Epoch 48, CIFAR-10 Batch 1:  Loss:     0.1956 Validation Accuracy: 0.614800\n",
      "Epoch 48, CIFAR-10 Batch 2:  Loss:     0.2880 Validation Accuracy: 0.609600\n",
      "Epoch 48, CIFAR-10 Batch 3:  Loss:     0.2501 Validation Accuracy: 0.606400\n",
      "Epoch 48, CIFAR-10 Batch 4:  Loss:     0.1792 Validation Accuracy: 0.611000\n",
      "Epoch 48, CIFAR-10 Batch 5:  Loss:     0.1938 Validation Accuracy: 0.615800\n",
      "Epoch 49, CIFAR-10 Batch 1:  Loss:     0.1885 Validation Accuracy: 0.618200\n",
      "Epoch 49, CIFAR-10 Batch 2:  Loss:     0.2689 Validation Accuracy: 0.604000\n",
      "Epoch 49, CIFAR-10 Batch 3:  Loss:     0.2097 Validation Accuracy: 0.615400\n",
      "Epoch 49, CIFAR-10 Batch 4:  Loss:     0.1764 Validation Accuracy: 0.609400\n",
      "Epoch 49, CIFAR-10 Batch 5:  Loss:     0.1894 Validation Accuracy: 0.618600\n",
      "Epoch 50, CIFAR-10 Batch 1:  Loss:     0.1969 Validation Accuracy: 0.607800\n",
      "Epoch 50, CIFAR-10 Batch 2:  Loss:     0.2646 Validation Accuracy: 0.614000\n",
      "Epoch 50, CIFAR-10 Batch 3:  Loss:     0.2262 Validation Accuracy: 0.600400\n",
      "Epoch 50, CIFAR-10 Batch 4:  Loss:     0.2002 Validation Accuracy: 0.608000\n",
      "Epoch 50, CIFAR-10 Batch 5:  Loss:     0.1851 Validation Accuracy: 0.610600\n"
     ]
    }
   ],
   "source": [
    "\"\"\"\n",
    "DON'T MODIFY ANYTHING IN THIS CELL\n",
    "\"\"\"\n",
    "save_model_path = './image_classification'\n",
    "\n",
    "print('Training...')\n",
    "with tf.Session() as sess:\n",
    "    # Initializing the variables\n",
    "    sess.run(tf.global_variables_initializer())\n",
    "    \n",
    "    # Training cycle\n",
    "    for epoch in range(epochs):\n",
    "        # Loop over all batches\n",
    "        n_batches = 5\n",
    "        for batch_i in range(1, n_batches + 1):\n",
    "            for batch_features, batch_labels in helper.load_preprocess_training_batch(batch_i, batch_size):\n",
    "                train_neural_network(sess, optimizer, keep_probability, batch_features, batch_labels)\n",
    "            print('Epoch {:>2}, CIFAR-10 Batch {}:  '.format(epoch + 1, batch_i), end='')\n",
    "            print_stats(sess, batch_features, batch_labels, cost, accuracy)\n",
    "            \n",
    "    # Save Model\n",
    "    saver = tf.train.Saver()\n",
    "    save_path = saver.save(sess, save_model_path)"
   ]
  },
  {
   "cell_type": "markdown",
   "metadata": {},
   "source": [
    "# Checkpoint\n",
    "The model has been saved to disk.\n",
    "## Test Model\n",
    "Test your model against the test dataset.  This will be your final accuracy. You should have an accuracy greater than 50%. If you don't, keep tweaking the model architecture and parameters."
   ]
  },
  {
   "cell_type": "code",
   "execution_count": 286,
   "metadata": {},
   "outputs": [
    {
     "name": "stdout",
     "output_type": "stream",
     "text": [
      "INFO:tensorflow:Restoring parameters from ./image_classification\n",
      "Testing Accuracy: 0.60947265625\n",
      "\n"
     ]
    },
    {
     "data": {
      "image/png": "[encoded data removed]",
      "text/plain": [
       "<matplotlib.figure.Figure at 0x7fd7bbd48898>"
      ]
     },
     "metadata": {
      "image/png": {
       "height": 319,
       "width": 355
      }
     },
     "output_type": "display_data"
    }
   ],
   "source": [
    "\"\"\"\n",
    "DON'T MODIFY ANYTHING IN THIS CELL\n",
    "\"\"\"\n",
    "%matplotlib inline\n",
    "%config InlineBackend.figure_format = 'retina'\n",
    "\n",
    "import tensorflow as tf\n",
    "import pickle\n",
    "import helper\n",
    "import random\n",
    "\n",
    "# Set batch size if not already set\n",
    "try:\n",
    "    if batch_size:\n",
    "        pass\n",
    "except NameError:\n",
    "    batch_size = 64\n",
    "\n",
    "save_model_path = './image_classification'\n",
    "n_samples = 4\n",
    "top_n_predictions = 3\n",
    "\n",
    "def test_model():\n",
    "    \"\"\"\n",
    "    Test the saved model against the test dataset\n",
    "    \"\"\"\n",
    "\n",
    "    test_features, test_labels = pickle.load(open('preprocess_test.p', mode='rb'))\n",
    "    loaded_graph = tf.Graph()\n",
    "\n",
    "    with tf.Session(graph=loaded_graph) as sess:\n",
    "        # Load model\n",
    "        loader = tf.train.import_meta_graph(save_model_path + '.meta')\n",
    "        loader.restore(sess, save_model_path)\n",
    "\n",
    "        # Get Tensors from loaded model\n",
    "        loaded_x = loaded_graph.get_tensor_by_name('x:0')\n",
    "        loaded_y = loaded_graph.get_tensor_by_name('y:0')\n",
    "        loaded_keep_prob = loaded_graph.get_tensor_by_name('keep_prob:0')\n",
    "        loaded_logits = loaded_graph.get_tensor_by_name('logits:0')\n",
    "        loaded_acc = loaded_graph.get_tensor_by_name('accuracy:0')\n",
    "        \n",
    "        # Get accuracy in batches for memory limitations\n",
    "        test_batch_acc_total = 0\n",
    "        test_batch_count = 0\n",
    "        \n",
    "        for test_feature_batch, test_label_batch in helper.batch_features_labels(test_features, test_labels, batch_size):\n",
    "            test_batch_acc_total += sess.run(\n",
    "                loaded_acc,\n",
    "                feed_dict={loaded_x: test_feature_batch, loaded_y: test_label_batch, loaded_keep_prob: 1.0})\n",
    "            test_batch_count += 1\n",
    "\n",
    "        print('Testing Accuracy: {}\\n'.format(test_batch_acc_total/test_batch_count))\n",
    "\n",
    "        # Print Random Samples\n",
    "        random_test_features, random_test_labels = tuple(zip(*random.sample(list(zip(test_features, test_labels)), n_samples)))\n",
    "        random_test_predictions = sess.run(\n",
    "            tf.nn.top_k(tf.nn.softmax(loaded_logits), top_n_predictions),\n",
    "            feed_dict={loaded_x: random_test_features, loaded_y: random_test_labels, loaded_keep_prob: 1.0})\n",
    "        helper.display_image_predictions(random_test_features, random_test_labels, random_test_predictions)\n",
    "\n",
    "\n",
    "test_model()"
   ]
  },
  {
   "cell_type": "markdown",
   "metadata": {},
   "source": [
    "## Why 50-80% Accuracy?\n",
    "You might be wondering why you can't get an accuracy any higher. First things first, 50% isn't bad for a simple CNN.  Pure guessing would get you 10% accuracy. However, you might notice people are getting scores [well above 80%](http://rodrigob.github.io/are_we_there_yet/build/classification_datasets_results.html#43494641522d3130).  That's because we haven't taught you all there is to know about neural networks. We still need to cover a few more techniques.\n",
    "## Submitting This Project\n",
    "When submitting this project, make sure to run all the cells before saving the notebook.  Save the notebook file as \"dlnd_image_classification.ipynb\" and save it as a HTML file under \"File\" -> \"Download as\".  Include the \"helper.py\" and \"problem_unittests.py\" files in your submission."
   ]
  }
 ],
 "metadata": {
  "kernelspec": {
   "display_name": "Python [conda env:tf]",
   "language": "python",
   "name": "conda-env-tf-py"
  },
  "language_info": {
   "codemirror_mode": {
    "name": "ipython",
    "version": 3
   },
   "file_extension": ".py",
   "mimetype": "text/x-python",
   "name": "python",
   "nbconvert_exporter": "python",
   "pygments_lexer": "ipython3",
   "version": "3.6.2"
  }
 },
 "nbformat": 4,
 "nbformat_minor": 1
}
